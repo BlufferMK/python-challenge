{
 "cells": [
  {
   "cell_type": "code",
   "execution_count": null,
   "metadata": {},
   "outputs": [],
   "source": [
    "#pybank python code\n",
    "import os\n",
    "import csv\n"
   ]
  },
  {
   "cell_type": "markdown",
   "metadata": {},
   "source": []
  },
  {
   "cell_type": "markdown",
   "metadata": {},
   "source": [
    "above code imports modules\n",
    "\n",
    "below code specifies the path for the csv file to be read in and creates lists to store data"
   ]
  },
  {
   "cell_type": "code",
   "execution_count": null,
   "metadata": {},
   "outputs": [],
   "source": [
    "csvpath = os.path.join('..', 'PyBank', 'Resources', 'budget_data.csv')\n",
    "date = []\n",
    "profit = []\n",
    "prof_change=[]"
   ]
  },
  {
   "cell_type": "markdown",
   "metadata": {},
   "source": [
    "The below code reads in the csv file, prints the header, counts the rows. Then it appends data to lists and calculates the sum of the profits."
   ]
  },
  {
   "cell_type": "code",
   "execution_count": null,
   "metadata": {},
   "outputs": [],
   "source": [
    "with open(csvpath) as csvfile:\n",
    "    csvreader = csv.reader(csvfile,delimiter=',')\n",
    "\n",
    "    print(csvreader)\n",
    "\n",
    "    csv_header = next(csvreader)\n",
    "    print(f\"CSV Header: {csv_header}\")\n",
    "    \n",
    "    for row in csvreader:\n",
    "        date.append(row[0])\n",
    "        \n",
    "        profit.append(row[1])\n",
    "        \n",
    "    prof_sum = sum(float(sub) for sub in profit)"
   ]
  },
  {
   "cell_type": "markdown",
   "metadata": {},
   "source": [
    "The below code prints the row count of the csv file.  The header is not included."
   ]
  },
  {
   "cell_type": "code",
   "execution_count": null,
   "metadata": {},
   "outputs": [],
   "source": [
    "row_count = len(date)\n",
    "    \n",
    "print(\"There are \", row_count, \"months of data.\")"
   ]
  },
  {
   "cell_type": "markdown",
   "metadata": {},
   "source": [
    "I counted rows by getting the length of the date list\n",
    "\n",
    "below, I adapted code from Stackoverflow for finding differences between elements of a list  2400840\n",
    "to get the difference in profit from month to month  these are stored in the prof_change list\n",
    "\n",
    "chg_max is the greatest amount of profit\n",
    "chg_min is the greatest loss from month to month\n",
    "\n",
    "high_month_index is used to identify the index value of the list for the maximum change, then applied to the date list to find the month.  The index value is increased by 1 to \n",
    "account for the change list \"starting\" one month later"
   ]
  },
  {
   "cell_type": "code",
   "execution_count": 26,
   "metadata": {},
   "outputs": [
    {
     "name": "stdout",
     "output_type": "stream",
     "text": [
      "Financial Analysis\n",
      "----------------------------\n",
      "The total number of months is 86 .\n",
      "The total net profit is $22564198.0 .\n",
      "The average monthly change in profits is $-8311.11 .\n",
      "The greatest Increase in Profits occurred in Aug-16, and was $1862002.0 .\n",
      "The Greatest Decrease in Profits occurred in Feb-14, and was $-1825558.0 .\n"
     ]
    }
   ],
   "source": [
    "prof_change = [float(profit[row+1])-float(profit[row]) for row in range(len(profit)-1)]\n",
    "\n",
    "chg_max =max(prof_change)\n",
    "\n",
    "chg_min = min(prof_change)\n",
    "\n",
    "chg_tot = sum(prof_change)\n",
    "\n",
    "avg_chg = chg_tot/len(prof_change)\n",
    "round_avg_chg = round(avg_chg,2)\n",
    "\n",
    "high_month_index = prof_change.index(chg_max) +1\n",
    "high_month = date[high_month_index]\n",
    "\n",
    "low_month_index = prof_change.index(chg_min) +1\n",
    "low_month = date[low_month_index]\n",
    "\n",
    "\n",
    "print(\"Financial Analysis\")\n",
    "print(\"----------------------------\")\n",
    "print('The total number of months is {} .'.format(row_count))\n",
    "print('The total net profit is ${} .'.format(prof_sum))\n",
    "print('The average monthly change in profits is ${} .'.format(round_avg_chg))\n",
    "print(\"The greatest Increase in Profits occurred in {}, and was ${} .\".format(high_month, chg_max))\n",
    "print(\"The Greatest Decrease in Profits occurred in {}, and was ${} .\".format(low_month,chg_min))\n"
   ]
  },
  {
   "cell_type": "markdown",
   "metadata": {},
   "source": [
    "code below is for outputting results to output file created in the analysis directory"
   ]
  },
  {
   "cell_type": "code",
   "execution_count": 27,
   "metadata": {},
   "outputs": [
    {
     "name": "stdout",
     "output_type": "stream",
     "text": [
      "['Financial Analysis\\n', '----------------------------\\n', 'The total number of months is 86 .\\n', 'The total net profit is $22564198.0 .\\n', 'The average monthly change in profits is $-8311.11 .\\n', 'The greatest Increase in Profits occurred in Aug-16, and was $1862002.0 .\\n', 'The Greatest Decrease in Profits occurred in Feb-14, and was $-1825558.0 .\\n']\n"
     ]
    }
   ],
   "source": [
    "\n",
    "with open('budget_analysis.txt', 'w') as output_file:\n",
    "    ol0 = \"Financial Analysis\\n\"\n",
    "    ol1 = \"----------------------------\\n\"\n",
    "    ol2 = 'The total number of months is {} .\\n'.format(row_count)\n",
    "    ol3 = 'The total net profit is ${} .\\n'.format(prof_sum)\n",
    "    ol4 = 'The average monthly change in profits is ${} .\\n'.format(round_avg_chg)\n",
    "    ol5 = \"The greatest Increase in Profits occurred in {}, and was ${} .\\n\".format(high_month, chg_max)\n",
    "    ol6 = \"The Greatest Decrease in Profits occurred in {}, and was ${} .\\n\".format(low_month,chg_min)\n",
    "    output_list = [ol0,ol1,ol2,ol3,ol4,ol5,ol6]\n",
    "    output_file.writelines([ol0,ol1,ol2,ol3,ol4,ol5,ol6])\n",
    "print(output_list)\n",
    "\n",
    "\n"
   ]
  },
  {
   "cell_type": "markdown",
   "metadata": {},
   "source": []
  },
  {
   "cell_type": "markdown",
   "metadata": {},
   "source": [
    "output_file = open(\"analysis.txt\", \"w\")\n",
    "print(output_list[0])\n",
    "print(output_list[1])\n",
    "print(output_list[2])\n",
    "print(output_list[3])\n",
    "print(output_list[4])\n",
    "print(output_list[5])\n",
    "output_file.write(output_list[0])\n",
    "output_file.write(output_list[1])\n",
    "output_file.write(output_list[2])\n",
    "output_file.write(output_list[3])\n",
    "output_file.write(output_list[4])\n",
    "output_file.write(output_list[5])\n",
    "\n",
    "output_file.close()\n",
    "\n"
   ]
  }
 ],
 "metadata": {
  "kernelspec": {
   "display_name": "dev",
   "language": "python",
   "name": "python3"
  },
  "language_info": {
   "codemirror_mode": {
    "name": "ipython",
    "version": 3
   },
   "file_extension": ".py",
   "mimetype": "text/x-python",
   "name": "python",
   "nbconvert_exporter": "python",
   "pygments_lexer": "ipython3",
   "version": "3.10.13"
  }
 },
 "nbformat": 4,
 "nbformat_minor": 2
}
