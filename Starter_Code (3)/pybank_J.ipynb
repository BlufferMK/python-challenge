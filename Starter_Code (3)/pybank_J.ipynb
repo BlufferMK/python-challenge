{
 "cells": [
  {
   "cell_type": "code",
   "execution_count": 54,
   "metadata": {},
   "outputs": [],
   "source": [
    "#pybank python code\n",
    "import os\n",
    "import csv\n",
    "import math\n"
   ]
  },
  {
   "cell_type": "markdown",
   "metadata": {},
   "source": [
    "above code imports modules\n",
    "\n",
    "below code specifies the path for the csv file to be read in and creates lists to store data"
   ]
  },
  {
   "cell_type": "code",
   "execution_count": 55,
   "metadata": {},
   "outputs": [],
   "source": [
    "csvpath = os.path.join('..', 'PyBank', 'Resources', 'budget_data.csv')\n",
    "date = []\n",
    "profit = []\n",
    "prof_change=[]\n",
    "total = 0"
   ]
  },
  {
   "cell_type": "markdown",
   "metadata": {},
   "source": [
    "The below code reads in the csv file, prints the header, counts the rows. Then it appends data to lists for date and profit and prints the rows of the csv file"
   ]
  },
  {
   "cell_type": "code",
   "execution_count": 56,
   "metadata": {},
   "outputs": [
    {
     "name": "stdout",
     "output_type": "stream",
     "text": [
      "<_csv.reader object at 0x0000022FF435C0A0>\n",
      "CSV Header: ['Date', 'Profit/Losses']\n",
      "['1088983', '-354534', '276622', '-728133', '852993', '563721', '-535208', '632349', '-173744', '950741', '-785750', '-1194133', '-589576', '-883921', '443564', '837887', '1081472', '464033', '-1066544', '323846', '-806551', '487053', '1128811', '791398', '739367', '-197825', '666016', '589771', '489290', '-471439', '120417', '175347', '855449', '605195', '-235220', '347138', '298510', '163254', '1141840', '542630', '99841', '752765', '-252949', '914424', '679524', '514377', '462102', '159782', '878810', '-946748', '340335', '292032', '502266', '265852', '851017', '-549615', '290162', '755391', '1073202', '313000', '241132', '1036589', '853904', '-388932', '982952', '537759', '547784', '-496214', '854181', '934719', '-288531', '-184383', '659541', '-1149123', '355882', '662284', '518681', '-748256', '-910775', '951227', '898241', '-729004', '-112209', '516313', '607208', '382539']\n",
      "['Jan-10', 'Feb-10', 'Mar-10', 'Apr-10', 'May-10', 'Jun-10', 'Jul-10', 'Aug-10', 'Sep-10', 'Oct-10', 'Nov-10', 'Dec-10', 'Jan-11', 'Feb-11', 'Mar-11', 'Apr-11', 'May-11', 'Jun-11', 'Jul-11', 'Aug-11', 'Sep-11', 'Oct-11', 'Nov-11', 'Dec-11', 'Jan-12', 'Feb-12', 'Mar-12', 'Apr-12', 'May-12', 'Jun-12', 'Jul-12', 'Aug-12', 'Sep-12', 'Oct-12', 'Nov-12', 'Dec-12', 'Jan-13', 'Feb-13', 'Mar-13', 'Apr-13', 'May-13', 'Jun-13', 'Jul-13', 'Aug-13', 'Sep-13', 'Oct-13', 'Nov-13', 'Dec-13', 'Jan-14', 'Feb-14', 'Mar-14', 'Apr-14', 'May-14', 'Jun-14', 'Jul-14', 'Aug-14', 'Sep-14', 'Oct-14', 'Nov-14', 'Dec-14', 'Jan-15', 'Feb-15', 'Mar-15', 'Apr-15', 'May-15', 'Jun-15', 'Jul-15', 'Aug-15', 'Sep-15', 'Oct-15', 'Nov-15', 'Dec-15', 'Jan-16', 'Feb-16', 'Mar-16', 'Apr-16', 'May-16', 'Jun-16', 'Jul-16', 'Aug-16', 'Sep-16', 'Oct-16', 'Nov-16', 'Dec-16', 'Jan-17', 'Feb-17']\n",
      "22564198.0\n"
     ]
    }
   ],
   "source": [
    "with open(csvpath) as csvfile:\n",
    "    csvreader = csv.reader(csvfile,delimiter=',')\n",
    "\n",
    "    print(csvreader)\n",
    "\n",
    "    csv_header = next(csvreader)\n",
    "    print(f\"CSV Header: {csv_header}\")\n",
    "    \n",
    "    for row in csvreader:\n",
    "        date.append(row[0])\n",
    "        \n",
    "        profit.append(row[1])\n",
    "        \n",
    "    print(profit)\n",
    "\n",
    "    print(date)\n",
    "\n",
    "    prof_sum = sum(float(sub) for sub in profit)\n",
    "    print(prof_sum)\n",
    "\n"
   ]
  },
  {
   "cell_type": "markdown",
   "metadata": {},
   "source": [
    "the above prints the lists to check that data are appending\n",
    "\n",
    "It also sums the profits and it seems to be working!"
   ]
  },
  {
   "cell_type": "markdown",
   "metadata": {},
   "source": [
    "It is reading in the profits as strings.  They need to be numeric. - solved      prof_sum = sum(float(sub) for sub in profit)\n",
    "putting in float in the code to sum the profits did it"
   ]
  },
  {
   "cell_type": "markdown",
   "metadata": {},
   "source": [
    "The below code prints the row count of the csv file.  The header is not included."
   ]
  },
  {
   "cell_type": "code",
   "execution_count": 57,
   "metadata": {},
   "outputs": [
    {
     "name": "stdout",
     "output_type": "stream",
     "text": [
      "86\n",
      "There are  86 rows.\n",
      "0\n"
     ]
    }
   ],
   "source": [
    "row_count = len(date)\n",
    "    \n",
    "print(row_count)\n",
    "print(\"There are \", row_count, \"rows.\")\n",
    "print(total)\n"
   ]
  },
  {
   "cell_type": "markdown",
   "metadata": {},
   "source": [
    "I counted rows by getting the length of the date list\n",
    "\n",
    "below, I adapted code from Stackoverflow for finding differences between elements of a list  2400840\n",
    "to get the difference in profit from month to month  these are stored in the prof_change list\n",
    "\n",
    "chg_max is the greatest amount of profit\n",
    "chg_min is the greatest loss from month to month\n",
    "\n",
    "high_month_index is used to identify the index value of the list for the maximum change, then applied to the date list to find the month.  The index value is increased by 1 to \n",
    "account for the change list \"starting\" one month later"
   ]
  },
  {
   "cell_type": "code",
   "execution_count": 69,
   "metadata": {},
   "outputs": [
    {
     "name": "stdout",
     "output_type": "stream",
     "text": [
      "1862002.0\n",
      "-1825558.0\n",
      "-8311.105882352942\n",
      "Aug-16\n",
      "Feb-14\n"
     ]
    }
   ],
   "source": [
    "prof_change = [float(profit[row+1])-float(profit[row]) for row in range(len(profit)-1)]\n",
    "\n",
    "\n",
    "chg_max =max(prof_change)\n",
    "\n",
    "print(chg_max)\n",
    "\n",
    "chg_min = min(prof_change)\n",
    "\n",
    "print(chg_min)\n",
    "\n",
    "chg_tot = sum(prof_change)\n",
    "\n",
    "avg_chg = chg_tot/len(prof_change)\n",
    "print(avg_chg)\n",
    "\n",
    "high_month_index = prof_change.index(chg_max) +1\n",
    "high_month = date[high_month_index]\n",
    "print(high_month)\n",
    "\n",
    "low_month_index = prof_change.index(chg_min) +1\n",
    "low_month = date[low_month_index]\n",
    "print(low_month)\n"
   ]
  }
 ],
 "metadata": {
  "kernelspec": {
   "display_name": "dev",
   "language": "python",
   "name": "python3"
  },
  "language_info": {
   "codemirror_mode": {
    "name": "ipython",
    "version": 3
   },
   "file_extension": ".py",
   "mimetype": "text/x-python",
   "name": "python",
   "nbconvert_exporter": "python",
   "pygments_lexer": "ipython3",
   "version": "3.11.5"
  }
 },
 "nbformat": 4,
 "nbformat_minor": 2
}
