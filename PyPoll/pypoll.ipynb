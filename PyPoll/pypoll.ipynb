{
 "cells": [
  {
   "cell_type": "code",
   "execution_count": null,
   "metadata": {},
   "outputs": [],
   "source": [
    "#pybank python code\n",
    "import os\n",
    "import csv\n",
    "\n",
    "csvpath = os.path.join('Resources', 'election_data.csv')\n",
    "voter_ID=[]\n",
    "County=[]\n",
    "Candidate=[]\n"
   ]
  },
  {
   "cell_type": "code",
   "execution_count": null,
   "metadata": {},
   "outputs": [],
   "source": [
    "with open(csvpath) as csvfile:\n",
    "    csvreader = csv.reader(csvfile,delimiter=',')\n",
    "\n",
    "    print(csvreader)\n",
    "\n",
    "    csv_header = next(csvreader)\n",
    "    print(f\"CSV Header: {csv_header}\")\n",
    "\n",
    "    for row in csvreader:\n",
    "        voter_ID.append(row[0])\n",
    "        \n",
    "        County.append(row[1])\n",
    "    \n",
    "        Candidate.append(row[2])\n",
    "        \n",
    "    "
   ]
  },
  {
   "cell_type": "code",
   "execution_count": null,
   "metadata": {},
   "outputs": [],
   "source": [
    "row_count = len(voter_ID)\n",
    "print(\"There are \", row_count, \"votes.\")"
   ]
  },
  {
   "cell_type": "markdown",
   "metadata": {},
   "source": [
    "below the code will loop through counting votes for the first candidate\n",
    "The name of candidate 1 is found by looking at the first item in the Candidate list\n",
    "The name of candidate 2 is found by looking at the LAST item in the Candidate list.\n",
    "The name of candidate 3 is found by subtracting the number of candidate 2 votes from -1 and using that as an index in the Candidate list"
   ]
  },
  {
   "cell_type": "code",
   "execution_count": 35,
   "metadata": {},
   "outputs": [
    {
     "name": "stdout",
     "output_type": "stream",
     "text": [
      "Candidate  Charles Casper Stockham received  23.05 % of the votes, with  85213 votes.\n",
      "Candidate  Diana DeGette received  272892 votes.\n",
      "Candidate  Raymon Anthony Doane received  11606 votes.\n"
     ]
    }
   ],
   "source": [
    "Can1 = Candidate[0]\n",
    "can1_votes = [i for i in Candidate if i == Can1]\n",
    "can1_count = len(can1_votes)\n",
    "can_1pct = 100*can1_count/row_count\n",
    "round_can_1pct = round(can_1pct,2)\n",
    "\n",
    "Can2 = Candidate[-1] \n",
    "can2_votes = [i for i in Candidate if i == Can2]\n",
    "can2_count = len(can2_votes)\n",
    "\n",
    "can3_index = -1 - can2_count\n",
    "\n",
    "Can3 = Candidate[can3_index]\n",
    "can3_votes = [i for i in Candidate if i == Can3]\n",
    "can3_count = len(can3_votes)\n",
    "\n",
    "print(\"Candidate \", Can1, \"received \", round_can_1pct, \"% of the votes, with \", can1_count, \"votes.\" )\n",
    "print(\"Candidate \", Can3, \"received \", can3_count, \"votes.\" )\n",
    "print(\"Candidate \", Can2, \"received \", can2_count, \"votes.\" )"
   ]
  },
  {
   "cell_type": "markdown",
   "metadata": {},
   "source": []
  }
 ],
 "metadata": {
  "kernelspec": {
   "display_name": "dev",
   "language": "python",
   "name": "python3"
  },
  "language_info": {
   "codemirror_mode": {
    "name": "ipython",
    "version": 3
   },
   "file_extension": ".py",
   "mimetype": "text/x-python",
   "name": "python",
   "nbconvert_exporter": "python",
   "pygments_lexer": "ipython3",
   "version": "3.10.13"
  }
 },
 "nbformat": 4,
 "nbformat_minor": 2
}
