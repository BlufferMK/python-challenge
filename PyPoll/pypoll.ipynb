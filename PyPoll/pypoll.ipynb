{
 "cells": [
  {
   "cell_type": "code",
   "execution_count": 5,
   "metadata": {},
   "outputs": [],
   "source": [
    "#pybank python code\n",
    "import os\n",
    "import csv\n",
    "\n",
    "csvpath = os.path.join('Resources', 'election_data.csv')\n",
    "voter_ID=[]\n",
    "County=[]\n",
    "Candidate=[]\n"
   ]
  },
  {
   "cell_type": "code",
   "execution_count": 6,
   "metadata": {},
   "outputs": [
    {
     "name": "stdout",
     "output_type": "stream",
     "text": [
      "<_csv.reader object at 0x000001D5417FD240>\n",
      "CSV Header: ['Ballot ID', 'County', 'Candidate']\n"
     ]
    }
   ],
   "source": [
    "with open(csvpath) as csvfile:\n",
    "    csvreader = csv.reader(csvfile,delimiter=',')\n",
    "\n",
    "    print(csvreader)\n",
    "\n",
    "    csv_header = next(csvreader)\n",
    "    print(f\"CSV Header: {csv_header}\")\n",
    "\n",
    "    for row in csvreader:\n",
    "        voter_ID.append(row[0])\n",
    "        \n",
    "        County.append(row[1])\n",
    "    \n",
    "        Candidate.append(row[2])\n",
    "        \n",
    "    "
   ]
  },
  {
   "cell_type": "code",
   "execution_count": 7,
   "metadata": {},
   "outputs": [
    {
     "name": "stdout",
     "output_type": "stream",
     "text": [
      "There are  369711 votes.\n"
     ]
    }
   ],
   "source": [
    "row_count = len(voter_ID)\n",
    "print(\"There are \", row_count, \"votes.\")"
   ]
  },
  {
   "cell_type": "markdown",
   "metadata": {},
   "source": [
    "below the code will loop through counting votes for the first candidate\n",
    "The name of candidate 1 is found by looking at the first item in the Candidate list\n",
    "The name of candidate 2 is found by looking at the LAST item in the Candidate list.\n",
    "The name of candidate 3 is found by subtracting the number of candidate 2 votes from -1 and using that as an index in the Candidate list"
   ]
  },
  {
   "cell_type": "code",
   "execution_count": 8,
   "metadata": {},
   "outputs": [
    {
     "name": "stdout",
     "output_type": "stream",
     "text": [
      "Candidate  Charles Casper Stockham received  23.05 % of the votes, with  85213 votes.\n",
      "Candidate  Diana DeGette received  73.81 % of the votes, with  272892 votes.\n",
      "Candidate  Raymon Anthony Doane received  3.14 % of the votes, with  11606 votes.\n"
     ]
    }
   ],
   "source": [
    "Can1 = Candidate[0]\n",
    "can1_votes = [i for i in Candidate if i == Can1]\n",
    "can1_count = len(can1_votes)\n",
    "can_1pct = 100*can1_count/row_count\n",
    "round_can_1pct = round(can_1pct,2)\n",
    "\n",
    "Can2 = Candidate[-1] \n",
    "can2_votes = [i for i in Candidate if i == Can2]\n",
    "can2_count = len(can2_votes)\n",
    "can_2pct = 100*can2_count/row_count\n",
    "round_can_2pct = round(can_2pct,2)\n",
    "\n",
    "can3_index = -1 - can2_count\n",
    "\n",
    "Can3 = Candidate[can3_index]\n",
    "can3_votes = [i for i in Candidate if i == Can3]\n",
    "can3_count = len(can3_votes)\n",
    "can_3pct = 100*can3_count/row_count\n",
    "round_can_3pct = round(can_3pct,2)\n",
    "\n",
    "print(\"Candidate \", Can1, \"received \", round_can_1pct, \"% of the votes, with \", can1_count, \"votes.\" )\n",
    "print(\"Candidate \", Can3, \"received \",  round_can_3pct, \"% of the votes, with \", can3_count, \"votes.\" )\n",
    "print(\"Candidate \", Can2, \"received \",  round_can_2pct, \"% of the votes, with \", can2_count, \"votes.\" )"
   ]
  },
  {
   "cell_type": "markdown",
   "metadata": {},
   "source": [
    "determining winner and setting value in a variable"
   ]
  },
  {
   "cell_type": "code",
   "execution_count": 9,
   "metadata": {},
   "outputs": [
    {
     "name": "stdout",
     "output_type": "stream",
     "text": [
      "The winner is  Diana DeGette\n"
     ]
    }
   ],
   "source": [
    "winner = []\n",
    "if can1_count > can2_count and can1_count > can3_count:\n",
    "    winner = Can1\n",
    "elif can2_count > can1_count and can2_count > can3_count:\n",
    "    winner = Can2\n",
    "elif can3_count > can2_count and can3_count > can1_count:\n",
    "    winner = Can3\n",
    "\n",
    "print('The winner is ', winner)"
   ]
  },
  {
   "cell_type": "markdown",
   "metadata": {},
   "source": []
  },
  {
   "cell_type": "markdown",
   "metadata": {},
   "source": [
    "code below is for outputting results to output file created in the analysis directory"
   ]
  },
  {
   "cell_type": "code",
   "execution_count": 11,
   "metadata": {},
   "outputs": [
    {
     "name": "stdout",
     "output_type": "stream",
     "text": [
      "['Election Results\\n', '----------------------------\\n', 'The total number of votes is 369711 .\\n', '----------------------------\\n', 'Charles Casper Stockham : 23.05 % (85213)\\n', 'Diana DeGette : 73.81 % (272892)\\n', 'Raymon Anthony Doane : 3.14 % (11606)\\n', '----------------------------\\n', 'Winner: Diana DeGette \\n']\n"
     ]
    }
   ],
   "source": [
    "with open('pollanalysis.txt', 'w') as output_file:\n",
    "    ol0 = \"Election Results\\n\"\n",
    "    ol1 = \"----------------------------\\n\"\n",
    "    ol2 = 'The total number of votes is {} .\\n'.format(row_count)\n",
    "    ol3 = \"----------------------------\\n\"\n",
    "    ol4 = '{} : {} % ({})\\n'.format(Can1, round_can_1pct, can1_count)\n",
    "    ol5 = '{} : {} % ({})\\n'.format(Can3, round_can_3pct, can3_count)\n",
    "    ol6 = '{} : {} % ({})\\n'.format(Can2, round_can_2pct, can2_count)\n",
    "    ol7 = \"----------------------------\\n\"\n",
    "    ol8 = \"Winner: {} \\n\".format(winner)\n",
    "    output_list = [ol0,ol1,ol2,ol3,ol4,ol5, ol6, ol7, ol8]\n",
    "    output_file.writelines([ol0,ol1,ol2,ol3,ol4,ol5, ol6, ol7, ol8])\n",
    "print(output_list)\n"
   ]
  }
 ],
 "metadata": {
  "kernelspec": {
   "display_name": "dev",
   "language": "python",
   "name": "python3"
  },
  "language_info": {
   "codemirror_mode": {
    "name": "ipython",
    "version": 3
   },
   "file_extension": ".py",
   "mimetype": "text/x-python",
   "name": "python",
   "nbconvert_exporter": "python",
   "pygments_lexer": "ipython3",
   "version": "3.10.13"
  }
 },
 "nbformat": 4,
 "nbformat_minor": 2
}
